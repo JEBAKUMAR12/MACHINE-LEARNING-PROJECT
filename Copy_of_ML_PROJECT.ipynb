{
  "nbformat": 4,
  "nbformat_minor": 0,
  "metadata": {
    "colab": {
      "provenance": [],
      "authorship_tag": "ABX9TyMkJQs1SwhOWIXCrZXd+VNP",
      "include_colab_link": true
    },
    "kernelspec": {
      "name": "python3",
      "display_name": "Python 3"
    },
    "language_info": {
      "name": "python"
    }
  },
  "cells": [
    {
      "cell_type": "markdown",
      "metadata": {
        "id": "view-in-github",
        "colab_type": "text"
      },
      "source": [
        "<a href=\"https://colab.research.google.com/github/JEBAKUMAR12/MACHINE-LEARNING-PROJECT/blob/main/Copy_of_ML_PROJECT.ipynb\" target=\"_parent\"><img src=\"https://colab.research.google.com/assets/colab-badge.svg\" alt=\"Open In Colab\"/></a>"
      ]
    },
    {
      "cell_type": "code",
      "source": [
        "import cv2\n",
        "import numpy as np\n",
        "from tensorflow.keras.models import load_model, Sequential\n",
        "from tensorflow.keras.layers import Conv2D, Dense, Flatten, LSTM, TimeDistributed\n",
        "import os\n",
        "\n",
        "# --- Configuration ---\n",
        "MODEL_PATH = \"models/steering_model.h5\"  # Replace with your actual model path\n",
        "IMAGE_WIDTH = 200\n",
        "IMAGE_HEIGHT = 66\n",
        "SEQUENCE_LENGTH = 5  # Number of frames the model expects\n",
        "\n",
        "# --- Build Model Architecture (Optional, for reference or future training) ---\n",
        "def build_model():\n",
        "    model = Sequential()\n",
        "    model.add(TimeDistributed(Conv2D(24, (5, 5), activation='relu', strides=(2, 2)),\n",
        "                              input_shape=(SEQUENCE_LENGTH, IMAGE_HEIGHT, IMAGE_WIDTH, 3)))\n",
        "    model.add(TimeDistributed(Conv2D(36, (5, 5), activation='relu', strides=(2, 2))))\n",
        "    model.add(TimeDistributed(Conv2D(48, (5, 5), activation='relu', strides=(2, 2))))\n",
        "    model.add(TimeDistributed(Conv2D(64, (3, 3), activation='relu')))\n",
        "    model.add(TimeDistributed(Conv2D(64, (3, 3), activation='relu')))\n",
        "    model.add(TimeDistributed(Flatten()))\n",
        "    model.add(LSTM(100))\n",
        "    model.add(Dense(50))\n",
        "    model.add(Dense(10))\n",
        "    model.add(Dense(1))\n",
        "    model.compile(optimizer='adam', loss='mse')\n",
        "    return model\n",
        "\n",
        "# --- Load Trained Model ---\n",
        "model = None\n",
        "if os.path.exists(MODEL_PATH):\n",
        "    model = load_model(MODEL_PATH)\n",
        "    print(f\"✅ Model loaded successfully from {MODEL_PATH}\")\n",
        "else:\n",
        "    print(f\"❌ Model not found at {MODEL_PATH}. Exiting.\")\n",
        "    exit()\n",
        "\n",
        "# --- Simulate Camera Capture ---\n",
        "def capture_frame():\n",
        "    dummy_image = np.zeros((IMAGE_HEIGHT, IMAGE_WIDTH, 3), dtype=np.uint8)\n",
        "    cv2.line(dummy_image, (IMAGE_WIDTH // 2, 0), (IMAGE_WIDTH // 2, IMAGE_HEIGHT), (0, 255, 0), 2)\n",
        "    return dummy_image\n",
        "\n",
        "# --- Initialize Frame Sequence ---\n",
        "image_sequence = []\n",
        "\n",
        "for _ in range(SEQUENCE_LENGTH):\n",
        "    frame = capture_frame()\n",
        "    processed = cv2.resize(frame, (IMAGE_WIDTH, IMAGE_HEIGHT))\n",
        "    processed = processed / 255.0  # Normalize\n",
        "    image_sequence.append(processed)\n",
        "\n",
        "# --- Simulation Loop ---\n",
        "print(\"🚗 Starting simulated self-driving loop. Press 'q' to quit.\")\n",
        "\n",
        "while True:\n",
        "    new_frame = capture_frame()\n",
        "    processed_frame = cv2.resize(new_frame, (IMAGE_WIDTH, IMAGE_HEIGHT))\n",
        "    processed_frame = processed_frame / 255.0\n",
        "\n",
        "    image_sequence.append(processed_frame)\n",
        "    if len(image_sequence) > SEQUENCE_LENGTH:\n",
        "        image_sequence.pop(0)\n",
        "\n",
        "    model_input = np.array([image_sequence])  # Shape: (1, SEQUENCE_LENGTH, HEIGHT, WIDTH, 3)\n",
        "\n",
        "    try:\n",
        "        prediction = model.predict(model_input, verbose=0)[0][0]\n",
        "        print(f\"Predicted Steering Angle: {prediction:.4f}\")\n",
        "    except Exception as e:\n",
        "        print(f\"Error during prediction: {e}\")\n",
        "        break\n",
        "\n",
        "    # --- Display Frame ---\n",
        "    cv2.imshow(\"Simulated Camera Feed\", (processed_frame * 255).astype(np.uint8))\n",
        "    if cv2.waitKey(1) & 0xFF == ord('q'):\n",
        "        break\n",
        "\n",
        "cv2.destroyAllWindows()\n",
        "print(\"✅ Simulation ended.\")\n"
      ],
      "metadata": {
        "id": "8EwXOmuxNtIt"
      },
      "execution_count": null,
      "outputs": []
    }
  ]
}